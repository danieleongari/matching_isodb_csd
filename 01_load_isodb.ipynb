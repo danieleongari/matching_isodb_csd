{
 "cells": [
  {
   "cell_type": "markdown",
   "metadata": {},
   "source": [
    "# Read all isotherms from the ISO-DB"
   ]
  },
  {
   "cell_type": "code",
   "execution_count": 1,
   "metadata": {},
   "outputs": [
    {
     "name": "stdout",
     "output_type": "stream",
     "text": [
      "Last commit: c00557bf5173a83a7f0bde73bb96a162c2ce9f12\n"
     ]
    }
   ],
   "source": [
    "import git\n",
    "import json\n",
    "import pickle\n",
    "from tqdm import tqdm\n",
    "from pathlib import Path\n",
    "\n",
    "isodb_git_path = Path(\"/home/daniele/Databases/isodb-library\") # Cloned from https://github.com/NIST-ISODB/isodb-library\n",
    "\n",
    "print(\"Last commit:\", git.Repo(isodb_git_path).head.object.hexsha)"
   ]
  },
  {
   "cell_type": "markdown",
   "metadata": {},
   "source": [
    "## List of isotherms\n",
    "\n",
    "We first download lists of all isotherms, materials and adsorbents in the NIST database.\n",
    "\n",
    "`Isotherms` are dictionaries like:\n",
    "```\n",
    "    {\n",
    "        \"filename\": \"10.1002adem.200500223.isotherm1\",\n",
    "        \"DOI\": \"10.1002/adem.200500223\",\n",
    "        \"adsorbent\": {\n",
    "            \"hashkey\": \"NIST-MATDB-991daf7313251e7e607e2bab2da57e33\"\n",
    "        },\n",
    "        \"adsorbates\": [\n",
    "            {\n",
    "                \"InChIKey\": \"UFHFLCQGNIYNRP-UHFFFAOYSA-N\"\n",
    "            }\n",
    "        ],\n",
    "        \"category\": \"\",\n",
    "        \"temperature\": 77,\n",
    "        \"tabular_data\": 0,\n",
    "        \"isotherm_type\": \"\"\n",
    "    },\n",
    "```\n",
    "`Adsorbents` are dictionaries like:\n",
    "```\n",
    "    {\n",
    "        \"hashkey\": \"NIST-MATDB-991daf7313251e7e607e2bab2da57e33\",\n",
    "        \"name\": \"CuBTC\",\n",
    "        \"synonyms\": [\n",
    "            \"Basolite C300\",\n",
    "            \"C300\",\n",
    "            \"Cu-BTC\",\n",
    "            \"Cu3(BTC)2\",\n",
    "            \"HKUST-1\",\n",
    "            \"MOF-199\"\n",
    "        ]\n",
    "    },\n",
    "```\n",
    "`Adsorbates` are dictionaries like:\n",
    "```\n",
    "    {\n",
    "        \"InChIKey\": \"CURLTUGMZLYLDI-UHFFFAOYSA-N\",\n",
    "        \"name\": \"Carbon Dioxide\",\n",
    "        \"synonyms\": [\n",
    "            \"Carbon dioxide\",\n",
    "            \"Carbon oxide\",\n",
    "            \"CO2\"\n",
    "        ]\n",
    "    },\n",
    "```\n",
    "\n",
    "`Bibliography` are dictionaries like:\n",
    "```\n",
    "{\n",
    "        \"DOI\": \"10.1002/adem.200500223\",\n",
    "        \"title\": \"Improved Hydrogen Storage in the Metal-Organic Framework Cu3(BTC)2\",\n",
    "        \"journal\": \"Advanced Engineering Materials\",\n",
    "        \"year\": 2006,\n",
    "        \"authors\": [\n",
    "            \"Piotr Krawiec\",\n",
    "            \"Markus Kramer\",\n",
    "            \"Michal Sabo\",\n",
    "            \"R. Kunschke\",\n",
    "            \"Heidrun Fröde\",\n",
    "            \"Stefan Kaskel\"\n",
    "        ],\n",
    "        \"categories\": [\n",
    "            \"exp\"\n",
    "        ],\n",
    "        \"adsorbents\": [\n",
    "            {\n",
    "                \"hashkey\": \"NIST-MATDB-991daf7313251e7e607e2bab2da57e33\",\n",
    "                \"name\": \"CuBTC\"\n",
    "            }\n",
    "        ],\n",
    "        \"adsorbentMaterial\": [\n",
    "            \"CuBTC\"\n",
    "        ],\n",
    "        \"adsorbates\": [\n",
    "            {\n",
    "                \"InChIKey\": \"IJGRMHOSHXDMSA-UHFFFAOYSA-N\",\n",
    "                \"name\": \"Nitrogen\"\n",
    "            },\n",
    "            {\n",
    "                \"InChIKey\": \"UFHFLCQGNIYNRP-UHFFFAOYSA-N\",\n",
    "                \"name\": \"Hydrogen\"\n",
    "            }\n",
    "        ],\n",
    "        \"adsorbateGas\": [\n",
    "            \"Nitrogen\",\n",
    "            \"Hydrogen\"\n",
    "        ],\n",
    "        \"temperatures\": [\n",
    "            77,\n",
    "            87\n",
    "        ],\n",
    "        \"pressures\": [\n",
    "            0,\n",
    "            1\n",
    "        ],\n",
    "        \"isotherms\": [\n",
    "            {\n",
    "                \"filename\": \"10.1002adem.200500223.isotherm1\"\n",
    "            },\n",
    "            {\n",
    "                \"filename\": \"10.1002adem.200500223.isotherm2\"\n",
    "            },\n",
    "            {\n",
    "                \"filename\": \"10.1002adem.200500223.isotherm3\"\n",
    "            }\n",
    "        ]\n",
    "    }\n",
    "```"
   ]
  },
  {
   "cell_type": "code",
   "execution_count": 2,
   "metadata": {},
   "outputs": [
    {
     "name": "stdout",
     "output_type": "stream",
     "text": [
      "Loaded 7386 Adsorbents\n",
      "Loaded 434 Adsorbates\n",
      "Loaded 4128 Bibliography\n"
     ]
    },
    {
     "name": "stderr",
     "output_type": "stream",
     "text": [
      "35482it [00:04, 7872.90it/s] "
     ]
    },
    {
     "name": "stdout",
     "output_type": "stream",
     "text": [
      "Loaded 35482 Isotherms\n"
     ]
    },
    {
     "name": "stderr",
     "output_type": "stream",
     "text": [
      "\n"
     ]
    }
   ],
   "source": [
    "# load files to memory (to copy in other notebook!)\n",
    "nistdb = {\n",
    "    'Adsorbents': [],\n",
    "    'Adsorbates': [],\n",
    "    'Bibliography': [],\n",
    "    'Isotherms': [],\n",
    "}\n",
    "\n",
    "for key in nistdb:\n",
    "    if key=='Isotherms':\n",
    "        for iso_path in tqdm((isodb_git_path / \"Library\").glob(\"10*/*\")):\n",
    "            with open(iso_path, \"r\") as iso_json:\n",
    "                nistdb[key].append(json.load(iso_json))\n",
    "    else:\n",
    "        for json_path in (isodb_git_path / \"Library\").glob(f\"{key}/*\"):\n",
    "            with open(json_path , \"r\", encoding='utf-8') as json_file:\n",
    "                nistdb[key].append(json.load(json_file))\n",
    "    print(f\"Loaded {len(nistdb[key])} {key}\")"
   ]
  },
  {
   "cell_type": "markdown",
   "metadata": {},
   "source": [
    "> NOTE: the Adsorbates present in the isotherms are only 280 (not 434), as shown in a later cell\n",
    "\n",
    "## Cleaning isotherms data\n",
    "Inspired by \n",
    "* Add `total_adsorption`: due to the switch to a multicomponent JSON format, the *total_adsorption* field, which is supposed to show the total amount of all species adsorbed is sometimes left blank. here we iterate and generate this field when it is absent.\n",
    "* Correct `category=\"\"` when possible: for old data, `category` is left blank. We can correct it only for those isotherm whose biblio is only of one kind. "
   ]
  },
  {
   "cell_type": "code",
   "execution_count": 3,
   "metadata": {},
   "outputs": [
    {
     "name": "stdout",
     "output_type": "stream",
     "text": [
      "Corrections performed in 6538 isotherms over 35482.\n"
     ]
    }
   ],
   "source": [
    "# Add total_adsorption\n",
    "import numpy as np\n",
    "isos = nistdb['Isotherms']\n",
    "\n",
    "fixes = 0\n",
    "for iso in isos:\n",
    "    if iso['isotherm_data'][0]['total_adsorption'] is None:\n",
    "        fixes += 1\n",
    "        for point in iso['isotherm_data']:\n",
    "            point['total_adsorption'] = float(np.sum([dp['adsorption'] for dp in point['species_data']]))\n",
    "\n",
    "print(f\"Corrections performed in {fixes} isotherms over {len(isos)}.\")"
   ]
  },
  {
   "cell_type": "code",
   "execution_count": 4,
   "metadata": {},
   "outputs": [
    {
     "name": "stdout",
     "output_type": "stream",
     "text": [
      "Corrections performed in 14378 isotherms, 12578 already assigned, and 8526 left unknown.\n"
     ]
    }
   ],
   "source": [
    "# Correct category=\"\": assign 'exp' or 'sim' to all isotherms, if the enclosing paper has only one category!\n",
    "\n",
    "doi_to_category = { bib['DOI'] : bib['categories'] for bib in  nistdb['Bibliography']}\n",
    "\n",
    "fixes, known, unknown = 0, 0, 0\n",
    "for iso in isos:\n",
    "    if iso['category']==\"\":\n",
    "        if iso['DOI'] in doi_to_category and len(doi_to_category[iso['DOI']])==1:\n",
    "            fixes += 1\n",
    "            iso['category']=doi_to_category[iso['DOI']][0]\n",
    "        else:\n",
    "            unknown += 1\n",
    "    else:\n",
    "        known +=1\n",
    "        \n",
    "\n",
    "print(f\"Corrections performed in {fixes} isotherms, {known} already assigned, and {unknown} left unknown.\")"
   ]
  },
  {
   "cell_type": "markdown",
   "metadata": {},
   "source": [
    "## Save (or load) pickled isotherms if needed"
   ]
  },
  {
   "cell_type": "code",
   "execution_count": 5,
   "metadata": {},
   "outputs": [],
   "source": [
    "with open(\"data/nistdb.pickle\", 'wb') as f:\n",
    "    pickle.dump(nistdb, f)"
   ]
  },
  {
   "cell_type": "code",
   "execution_count": 6,
   "metadata": {},
   "outputs": [
    {
     "name": "stdout",
     "output_type": "stream",
     "text": [
      "Loaded 35482 full isotherms.\n"
     ]
    }
   ],
   "source": [
    "# To copy in other notebooks to load the database\n",
    "\n",
    "isos = nistdb['Isotherms']\n",
    "print(f\"Loaded {len(isos)} full isotherms.\")"
   ]
  },
  {
   "cell_type": "markdown",
   "metadata": {},
   "source": [
    "# Analyse the database after data-cleaning"
   ]
  },
  {
   "cell_type": "code",
   "execution_count": 7,
   "metadata": {},
   "outputs": [
    {
     "name": "stdout",
     "output_type": "stream",
     "text": [
      "Total isotherms: 35482\n",
      "Total adsorbents: 7386\n",
      "Total articles: 4128\n",
      "Total adsorbates: 280\n"
     ]
    }
   ],
   "source": [
    "print(\"Total isotherms:\", len(nistdb['Isotherms']))\n",
    "print(\"Total adsorbents:\", len(nistdb['Adsorbents']))\n",
    "print('Total articles:', len(nistdb['Bibliography']))\n",
    "adsorbates = set([ ads['name'] for isot in nistdb['Isotherms'] for ads in isot['adsorbates'] ])\n",
    "print('Total adsorbates:', len(adsorbates))"
   ]
  },
  {
   "cell_type": "code",
   "execution_count": 8,
   "metadata": {},
   "outputs": [
    {
     "data": {
      "text/plain": [
       "{'External_Resources': [],\n",
       " 'formula': '',\n",
       " 'hashkey': 'NIST-MATDB-2b2edf2ac6965fca1a5c8f1449476d04',\n",
       " 'name': 'PEI(aq) with M.W. 10000',\n",
       " 'synonyms': []}"
      ]
     },
     "execution_count": 8,
     "metadata": {},
     "output_type": "execute_result"
    }
   ],
   "source": [
    "nistdb['Adsorbents'][100]"
   ]
  },
  {
   "cell_type": "code",
   "execution_count": 9,
   "metadata": {},
   "outputs": [
    {
     "name": "stdout",
     "output_type": "stream",
     "text": [
      "'zeolite' matches: 3.249\n",
      "'carbon' matches: 7.040\n",
      "'mof' matches: 12.551\n",
      "'cof' matches: 1.286\n"
     ]
    }
   ],
   "source": [
    "# Identity of adsorbents\n",
    "for match in [\"zeolite\", \"carbon\", \"mof\", \"cof\"]:\n",
    "    count = 0\n",
    "    for adsorbent in nistdb['Adsorbents']:\n",
    "        if any([ match in x.lower() for x in [adsorbent['name']] + adsorbent['synonyms']]):\n",
    "            count+=1\n",
    "    perc = 100 * count/len(nistdb['Adsorbents'])\n",
    "    print(f\"'{match}' matches: {perc:.3f}\")\n"
   ]
  },
  {
   "cell_type": "code",
   "execution_count": 10,
   "metadata": {},
   "outputs": [
    {
     "name": "stdout",
     "output_type": "stream",
     "text": [
      "Paper containing at least one isotherm: 3307 (80.1)%\n",
      "Paper containing at least one isotherm, and HAS experimental: 2951 (71.5)%\n",
      "Paper containing at least one isotherm, and ONLY experimental: 2462 (59.6)%\n"
     ]
    }
   ],
   "source": [
    "# Some statistics referring to the articles in the Bibliography\n",
    "\n",
    "bib = nistdb['Bibliography']\n",
    "\n",
    "count = len([art for art in bib if art['isotherms']])\n",
    "print('Paper containing at least one isotherm:', count, f\"({round(count/len(bib)*100,1)})%\")\n",
    "\n",
    "count = len([art for art in bib if art['isotherms'] and 'exp' in art['categories']])\n",
    "print('Paper containing at least one isotherm, and HAS experimental:', count, f\"({round(count/len(bib)*100,1)})%\")\n",
    "\n",
    "count = len([art for art in bib if art['isotherms'] and art['categories']==['exp']])\n",
    "print('Paper containing at least one isotherm, and ONLY experimental:', count, f\"({round(count/len(bib)*100,1)})%\")\n"
   ]
  },
  {
   "cell_type": "code",
   "execution_count": 11,
   "metadata": {},
   "outputs": [
    {
     "name": "stdout",
     "output_type": "stream",
     "text": [
      "Total isotherms: 35482\n",
      "Experimental: 21375 (60.2)%\n",
      "Experimental, Nitrogen: 5153 (14.5)%\n",
      "Experimental, Carbon Dioxide: 4366 (12.3)%\n",
      "Experimental, Hydrogen: 2540 (7.2)%\n",
      "Experimental, Methane: 2212 (6.2)%\n",
      "Experimental, Water: 607 (1.7)%\n",
      "\n",
      "Experimental, Nitrogen@77: 4003 (11.3)%\n",
      "Experimental, Argon@87: 140 (0.4)%\n"
     ]
    }
   ],
   "source": [
    "# Some statistics on the isoterms\n",
    "isos = nistdb['Isotherms']\n",
    "print(\"Total isotherms:\", len(isos))\n",
    "\n",
    "count = len([isot for isot in isos if isot['category']=='exp'])\n",
    "print('Experimental:', count, f\"({round(count/len(isos)*100,1)})%\")\n",
    "\n",
    "for adsorbate in ['Nitrogen', 'Carbon Dioxide', 'Hydrogen', 'Methane', 'Water']:\n",
    "    count = len([isot for isot in isos if isot['category']=='exp' and len(isot['adsorbates'])==1 and isot['adsorbates'][0]['name']==adsorbate])\n",
    "    print(f'Experimental, {adsorbate}:', count, f\"({round(count/len(isos)*100,1)})%\")\n",
    "\n",
    "print()\n",
    "count = len([isot for isot in isos if isot['category']=='exp' and len(isot['adsorbates'])==1 and isot['adsorbates'][0]['name']=='Nitrogen' and isot['temperature']==77])\n",
    "print(f'Experimental, Nitrogen@77:', count, f\"({round(count/len(isos)*100,1)})%\")\n",
    "count = len([isot for isot in isos if isot['category']=='exp' and len(isot['adsorbates'])==1 and isot['adsorbates'][0]['name']=='Argon' and isot['temperature']==87])\n",
    "print(f'Experimental, Argon@87:', count, f\"({round(count/len(isos)*100,1)})%\")"
   ]
  },
  {
   "cell_type": "code",
   "execution_count": 12,
   "metadata": {},
   "outputs": [
    {
     "name": "stdout",
     "output_type": "stream",
     "text": [
      "Adsorbents at least one exp isotherm: 4834 (65.45%)\n"
     ]
    }
   ],
   "source": [
    "# Some statistics on the adrsorbents\n",
    "count = set()\n",
    "for isot in nistdb['Isotherms']:\n",
    "    if isot['category'] == 'exp':\n",
    "        count.add(isot['adsorbent']['name'])\n",
    "print(\"Adsorbents at least one exp isotherm:\", len(count), end=\" \")\n",
    "print(f\"({100*len(count)/len(nistdb['Adsorbents']):.2f}%)\")\n",
    "experimental_isotherms = count"
   ]
  },
  {
   "cell_type": "code",
   "execution_count": 13,
   "metadata": {},
   "outputs": [
    {
     "name": "stdout",
     "output_type": "stream",
     "text": [
      "Adsorbents with characterization: 2675 (36.22%)\n"
     ]
    }
   ],
   "source": [
    "# Some statistics on the adrsorbents\n",
    "count = set()\n",
    "for isot in nistdb['Isotherms']:\n",
    "    if isot['category'] == 'exp' and (\n",
    "        (isot['adsorbates'][0]['name']=='Nitrogen' and isot['temperature']==77) or (\n",
    "         isot['adsorbates'][0]['name']=='Argon'    and isot['temperature']==87)):\n",
    "        count.add(isot['adsorbent']['name'])\n",
    "print(\"Adsorbents with characterization:\", len(count), end=\" \")\n",
    "print(f\"({100*len(count)/len(nistdb['Adsorbents']):.2f}%)\")"
   ]
  },
  {
   "cell_type": "code",
   "execution_count": 14,
   "metadata": {},
   "outputs": [
    {
     "name": "stdout",
     "output_type": "stream",
     "text": [
      "Adsorbents with volumetric (or weird) units: 728 (15.06%)\n"
     ]
    }
   ],
   "source": [
    "# Isotherms with volumtric unit\n",
    "count=0\n",
    "for isot in nistdb['Isotherms']:\n",
    "    if isot['category']=='exp':\n",
    "        unit = isot['adsorptionUnits']\n",
    "        if \"/\" in unit and unit.split(\"/\")[-1] in ['mol', 'volume', 'cm3', 'm3', 'cm2', 'm2', 'unit cell', 'unitcell', 'formula']:\n",
    "            #print(unit.split(\"/\"))\n",
    "            count+=1\n",
    "print(\"Adsorbents with volumetric (or weird) units:\", count, end=\" \")\n",
    "print(f\"({100*(count/len(experimental_isotherms)):.2f}%)\")"
   ]
  },
  {
   "cell_type": "markdown",
   "metadata": {},
   "source": [
    "> NOTE: in notebook `06` one can see that for our selected characterization isotherms the volumetric (or weird) units are just <1%"
   ]
  },
  {
   "cell_type": "code",
   "execution_count": 15,
   "metadata": {},
   "outputs": [
    {
     "name": "stdout",
     "output_type": "stream",
     "text": [
      "(CH3)2-MIL-53        >>>  ['(CH3)2-MIL-53(Al)']\n",
      "(OH)2-MIL-53         >>>  ['(OH)2-MIL-53(Al)']\n",
      "C60@IRMOF-10         >>>  ['Mg-C60@IRMOF-10']\n",
      "C60@IRMOF-8          >>>  ['Mg-C60@IRMOF-8']\n",
      "CHA                  >>>  ['Ca-CHA']\n",
      "COOH-MIL-53          >>>  ['Al-MIL-53-COOH']\n",
      "Cu/MCM-41            >>>  ['Fe-Cu/MCM-41']\n",
      "CuBTC                >>>  ['CuBTC(Cu)']\n",
      "IRMOF-1              >>>  ['Zn-IRMOF-1', 'Mg-IRMOF-1', 'Ni-IRMOF-1', 'Cu-IRMOF-1']\n",
      "MAMS-2               >>>  ['MAMS-2(Zn)']\n",
      "MAMS-4               >>>  ['MAMS-4(Cu)']\n",
      "MCM-48-ls            >>>  ['Mg-MCM-48-ls']\n",
      "MIL-100              >>>  ['MIL-100(Fe)', 'MIL-100(Al)', 'MIL-100(Sc)', 'MIL-100(Cr)', 'Mn-MIL-100', 'MIL-100(V)']\n",
      "MIL-101              >>>  ['MIL-101(V)', 'Cr-MIL(101)', 'MIL-101(Al)', 'MIL-101(Sc)']\n",
      "MIL-101-NH2          >>>  ['Cr-MIL-101-NH2']\n",
      "MIL-101-NO2          >>>  ['Cr-MIL-101-NO2']\n",
      "MIL-101-bipy         >>>  ['Cr-MIL-101-bipy']\n",
      "MIL-102              >>>  ['MIL-102(Fe)']\n",
      "MIL-125              >>>  ['MIL-125(Ti)']\n",
      "MIL-160              >>>  ['MIL-160(Al)']\n",
      "MIL-47               >>>  ['MIL-47(V)']\n",
      "MIL-53               >>>  ['MIL-53(Al)', 'MIL-53(Cr)', 'MIL-53(Fe)', 'MIL-53(Cu)', 'MIL-53(Sc)', 'MIL-53(V)']\n",
      "MIL-68               >>>  ['MIL-68(Fe)', 'MIL-68(Sc)', 'MIL-68(Al)', 'MIL-68(In)']\n",
      "MIL-88B              >>>  ['Fe-MIL-88B', 'MIL-88B(Cr)', 'MIL-88B(Sc)', 'MIL-88B(V)', 'In-MIL-88B']\n",
      "MIL-96               >>>  ['MIL-96(In)']\n",
      "MOF                  >>>  ['V-MOF', 'Sc-MOF', 'Zn-MOF', 'Al-MOF', 'Mn-MOF', 'Fe-MOF', 'Cu-MOF', 'Cr-MOF', 'Ti-MOF', 'Ru-MOF', 'Zr-MOF', 'Mg-MOF', 'In-MOF', 'Co-MOF', 'Ni-MOF', 'MOF(Fe)']\n",
      "MOF-1                >>>  ['Mg-MOF-1', 'Cu-MOF-1', 'Cd-MOF-1']\n",
      "MOF-2                >>>  ['Cu-MOF-2']\n",
      "MOF-74               >>>  ['Mn-MOF-74', 'MOF-74-Ni', 'Fe-MOF-74', 'Mg-MOF-74', 'Cu-MOF-74', 'Cd-MOF-74', 'Ca-MOF-74', 'MOF-74-Co', 'Zn-MOF-74']\n",
      "NH2-MIL-125          >>>  ['NH2-MIL-125(Ti)']\n",
      "NH2-MIL-53           >>>  ['NH2-MIL-53(In)', 'NH2-MIL-53(Al)']\n",
      "PILC                 >>>  ['Zr-PILC', 'Al-PILC']\n",
      "Pd/MIL-101           >>>  ['Pd@MIL-101(Cr)']\n",
      "Rho-ZMOF             >>>  ['Mg-Rho-ZMOF', 'Al-Rho-ZMOF']\n",
      "S-MIL-101            >>>  ['S-MIL-101(Cr)']\n",
      "SAPO-34              >>>  ['Cu-SAPO-34']\n",
      "SBA-15               >>>  ['Mg-SBA-15', 'Al-SBA-15']\n",
      "SBA-16               >>>  ['Mg-SBA-16']\n",
      "SDU-1                >>>  ['Cu-SDU-1']\n",
      "Ti-Si/PAI-HF         >>>  ['Zr-Ti-Si/PAI-HF']\n",
      "UiO-66               >>>  ['UiO-66(Zr)']\n",
      "UiO-67               >>>  ['UiO-67(Zr)']\n"
     ]
    }
   ],
   "source": [
    "# Find possibly ambiguous names\n",
    "possible_ambiguous_names = set([])\n",
    "ambiguous_names = set([])\n",
    "\n",
    "metals = [\n",
    "    'Mg', 'Al',\n",
    "    'Ca', 'Sc', 'Ti', 'V', 'Cr', 'Mn', 'Fe', 'Co', 'Ni', 'Cu', 'Zn', \n",
    "    'Zr', 'Ru', 'Rh',\n",
    "    'Cd', 'In', 'Sn', 'Pb']\n",
    "\n",
    "for m in metals: \n",
    "    for mat in nistdb['Adsorbents']:\n",
    "        for syn in [mat['name']] + mat['synonyms']:\n",
    "            if syn.endswith(f\"({m})\"): # name like: MOF-XX(M)\n",
    "                possible_ambiguous_names.add(syn.replace(f\"({m})\",\"\"))\n",
    "            elif syn.startswith(f\"{m}-\"): # name like: M-MOF-XX\n",
    "                possible_ambiguous_names.add(syn.replace(f\"{m}-\",\"\"))\n",
    "\n",
    "# Check if there is an ambiguous name which does not specify the metal\n",
    "for mat in nistdb['Adsorbents']:\n",
    "    if mat['name'] in possible_ambiguous_names:\n",
    "        ambiguous_names.add(mat['name'])\n",
    "        \n",
    "ambiguous_dict = { k: [] for k in ambiguous_names}\n",
    "\n",
    "# Link the ambiguous name (where the metal is not specified) to all its variants\n",
    "for mat in nistdb['Adsorbents']:\n",
    "    for ambiguous_name in ambiguous_names:\n",
    "        if any(\n",
    "            [f\"{ambiguous_name}({m})\"==syn for m in metals for syn in [mat['name']] + mat['synonyms']]\n",
    "        ) or any(\n",
    "            [f\"{m}-{ambiguous_name}\"==syn for m in metals for syn in [mat['name']] + mat['synonyms']]):\n",
    "            ambiguous_dict[ambiguous_name].append(mat['name'])\n",
    "\n",
    "for k in sorted(ambiguous_dict):\n",
    "    print(f\"{k:20s} >>> \", ambiguous_dict[k])\n",
    "# NOTE: the selection of names to exclude will be manual (see Supporting Info of the draft)."
   ]
  }
 ],
 "metadata": {
  "file_extension": ".py",
  "kernelspec": {
   "display_name": "Python [conda env:isodb_csd]",
   "language": "python",
   "name": "conda-env-isodb_csd-py"
  },
  "language_info": {
   "codemirror_mode": {
    "name": "ipython",
    "version": 3
   },
   "file_extension": ".py",
   "mimetype": "text/x-python",
   "name": "python",
   "nbconvert_exporter": "python",
   "pygments_lexer": "ipython3",
   "version": "3.8.12"
  },
  "mimetype": "text/x-python",
  "name": "python",
  "npconvert_exporter": "python",
  "pygments_lexer": "ipython3",
  "version": 3
 },
 "nbformat": 4,
 "nbformat_minor": 4
}
