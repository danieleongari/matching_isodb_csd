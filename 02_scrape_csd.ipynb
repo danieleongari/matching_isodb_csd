{
 "cells": [
  {
   "cell_type": "markdown",
   "id": "optional-hartford",
   "metadata": {},
   "source": [
    "# Scrape CSD \n",
    "NOTE: you need a CSD licence to install and use the CSD API"
   ]
  },
  {
   "cell_type": "code",
   "execution_count": 12,
   "id": "attached-muscle",
   "metadata": {},
   "outputs": [],
   "source": [
    "from pathlib import Path\n",
    "from tqdm import tqdm\n",
    "import pandas as pd"
   ]
  },
  {
   "cell_type": "code",
   "execution_count": 13,
   "id": "twenty-penguin",
   "metadata": {},
   "outputs": [
    {
     "name": "stdout",
     "output_type": "stream",
     "text": [
      "ccdc.__version__ 3.0.4\n",
      "ccdc.io.csd_directory() /home/daniele/Programs/CCDC/CSD_2021/csd\n",
      "ccdc.io.csd_version() 542\n",
      "Number of MOFs: 105922\n"
     ]
    }
   ],
   "source": [
    "import ccdc\n",
    "import ccdc.io\n",
    "import ccdc.search\n",
    "print(\"ccdc.__version__\", ccdc.__version__)\n",
    "print(\"ccdc.io.csd_directory()\", ccdc.io.csd_directory())\n",
    "print(\"ccdc.io.csd_version()\", ccdc.io.csd_version())\n",
    "\n",
    "subset_mofs_all = Path(ccdc.io.csd_directory()) / \"subsets\" / \"MOF_subset.gcd\"\n",
    "print(f\"Number of MOFs: {len(ccdc.io.EntryReader(str(subset_mofs_all)))}\")"
   ]
  },
  {
   "cell_type": "code",
   "execution_count": 17,
   "id": "aquatic-premium",
   "metadata": {},
   "outputs": [
    {
     "name": "stderr",
     "output_type": "stream",
     "text": [
      "100%|██████████| 105922/105922 [01:54<00:00, 921.87it/s]\n"
     ]
    }
   ],
   "source": [
    "n_entries = len(ccdc.io.EntryReader(str(subset_mofs_all)))\n",
    "rows = [{} for _ in range(n_entries)] # Pre allocate for speed\n",
    "for i, entry in enumerate(tqdm(ccdc.io.EntryReader(str(subset_mofs_all)))): # Takes 2 minutes\n",
    "    for col in ['identifier', 'ccdc_number','formula', 'has_disorder']:\n",
    "        rows[i][col] = getattr(entry, col)\n",
    "    rows[i]['publication_year'] = entry.publication.year\n",
    "    doi = entry.publication.doi\n",
    "    if doi: # can be None\n",
    "        doi = doi.lower() # Lower caption to improve match in a later step\n",
    "    rows[i]['publication_doi'] = doi \n",
    "    synonyms = list(entry.synonyms)\n",
    "    rows[i]['synonyms_orig'] = synonyms\n",
    "df = pd.DataFrame(rows) \n",
    "\n",
    "df.to_csv(\"data/step-00.csv\", index=False) \n",
    "# step-00.csv contains all CSD entries of MOF subset: id, formula, has_disorder, pub year, doi, synonyms_orig"
   ]
  },
  {
   "cell_type": "code",
   "execution_count": 18,
   "id": "electoral-going",
   "metadata": {},
   "outputs": [
    {
     "data": {
      "text/html": [
       "<div>\n",
       "<style scoped>\n",
       "    .dataframe tbody tr th:only-of-type {\n",
       "        vertical-align: middle;\n",
       "    }\n",
       "\n",
       "    .dataframe tbody tr th {\n",
       "        vertical-align: top;\n",
       "    }\n",
       "\n",
       "    .dataframe thead th {\n",
       "        text-align: right;\n",
       "    }\n",
       "</style>\n",
       "<table border=\"1\" class=\"dataframe\">\n",
       "  <thead>\n",
       "    <tr style=\"text-align: right;\">\n",
       "      <th></th>\n",
       "      <th>identifier</th>\n",
       "      <th>ccdc_number</th>\n",
       "      <th>formula</th>\n",
       "      <th>has_disorder</th>\n",
       "      <th>publication_year</th>\n",
       "      <th>publication_doi</th>\n",
       "      <th>synonyms_orig</th>\n",
       "    </tr>\n",
       "  </thead>\n",
       "  <tbody>\n",
       "    <tr>\n",
       "      <th>0</th>\n",
       "      <td>ABACUF</td>\n",
       "      <td>1100034.0</td>\n",
       "      <td>(C6 H14 Ba2 Cu1 O16)n</td>\n",
       "      <td>False</td>\n",
       "      <td>1958</td>\n",
       "      <td>None</td>\n",
       "      <td>[]</td>\n",
       "    </tr>\n",
       "    <tr>\n",
       "      <th>1</th>\n",
       "      <td>ABACUF01</td>\n",
       "      <td>230290.0</td>\n",
       "      <td>(C6 H14 Ba2 Cu1 O16)n</td>\n",
       "      <td>False</td>\n",
       "      <td>2004</td>\n",
       "      <td>10.1016/j.molstruc.2004.03.051</td>\n",
       "      <td>[]</td>\n",
       "    </tr>\n",
       "    <tr>\n",
       "      <th>2</th>\n",
       "      <td>ABAFUH</td>\n",
       "      <td>1498688.0</td>\n",
       "      <td>(C9 H8 Cu2 O4)n</td>\n",
       "      <td>False</td>\n",
       "      <td>2016</td>\n",
       "      <td>10.1016/j.poly.2016.09.043</td>\n",
       "      <td>[]</td>\n",
       "    </tr>\n",
       "  </tbody>\n",
       "</table>\n",
       "</div>"
      ],
      "text/plain": [
       "  identifier  ccdc_number                formula  has_disorder  \\\n",
       "0     ABACUF    1100034.0  (C6 H14 Ba2 Cu1 O16)n         False   \n",
       "1   ABACUF01     230290.0  (C6 H14 Ba2 Cu1 O16)n         False   \n",
       "2     ABAFUH    1498688.0        (C9 H8 Cu2 O4)n         False   \n",
       "\n",
       "   publication_year                 publication_doi synonyms_orig  \n",
       "0              1958                            None            []  \n",
       "1              2004  10.1016/j.molstruc.2004.03.051            []  \n",
       "2              2016      10.1016/j.poly.2016.09.043            []  "
      ]
     },
     "execution_count": 18,
     "metadata": {},
     "output_type": "execute_result"
    }
   ],
   "source": [
    "df.head(3)"
   ]
  },
  {
   "cell_type": "code",
   "execution_count": null,
   "id": "endangered-nature",
   "metadata": {},
   "outputs": [],
   "source": []
  }
 ],
 "metadata": {
  "kernelspec": {
   "display_name": "csd",
   "language": "python",
   "name": "csd"
  },
  "language_info": {
   "codemirror_mode": {
    "name": "ipython",
    "version": 3
   },
   "file_extension": ".py",
   "mimetype": "text/x-python",
   "name": "python",
   "nbconvert_exporter": "python",
   "pygments_lexer": "ipython3",
   "version": "3.7.4"
  }
 },
 "nbformat": 4,
 "nbformat_minor": 5
}
